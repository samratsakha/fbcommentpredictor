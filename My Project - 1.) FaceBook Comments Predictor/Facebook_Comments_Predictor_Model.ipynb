{
 "cells": [
  {
   "cell_type": "markdown",
   "metadata": {},
   "source": [
    "## Facebook Comments Predictor"
   ]
  },
  {
   "cell_type": "markdown",
   "metadata": {},
   "source": [
    "This project is about predicting the number of comments on a specific post for the next hour in Facebook\n",
    "\n",
    "It has totally 54 attributes:\n",
    "\n",
    "53 features which will be the input of the model\n",
    "\n",
    "1 target which will be the output of the model "
   ]
  },
  {
   "cell_type": "markdown",
   "metadata": {},
   "source": [
    "The algorithm used in this model is RandomForestRegressor()\n",
    "\n",
    "\n",
    "Since it is a Regression problem and after testing the model through various algorithms, this was choosed.\n",
    "\n"
   ]
  },
  {
   "cell_type": "markdown",
   "metadata": {},
   "source": [
    "## Attributes Information:"
   ]
  },
  {
   "cell_type": "markdown",
   "metadata": {},
   "source": [
    "1 Page Popularity/likes - POPL - Defines the popularity or support for the source of the document.\n",
    "\n",
    "2 Page Checkin - IND - Describes how many individuals so far visited this place. This feature is only associated with the places eg:some institution, place, theater etc.\n",
    "\n",
    "3 Page talking about - INTIND - Defines the daily interest of individuals towards source of the document/ Post. The people who actually come back to the page, after liking the page. This include activities such as comments, likes to a post, shares, etc by visitors to the page.\n",
    "\n",
    "4 Page Category - CAT - Defines the category of the source of the document eg: place, institution, brand etc.\n",
    "\n",
    "5 - 29 Derived - (P1-P25) - These features are aggregated by page, by calculating min, max, average, median and standard deviation of essential features.\n",
    "\n",
    "30 CC1 - TCMTS - The total number of comments before selected base date/time.\n",
    "\n",
    "31 CC2 - CMT24 - The number of comments in last 24 hours, relative to base date/time.\n",
    "\n",
    "32 CC3 - CMT2D - The number of comments in last 48 to last 24 hours relative to base date/time.\n",
    "\n",
    "33 CC4 - CMT1D - The number of comments in the first 24 hours after the publication of post but before base date/time.\n",
    "\n",
    "34 CC5 - C24-C2D - The difference between TCMTS and CMT24.\n",
    "\n",
    "35 Base time - SST - Selected time in order to simulate the scenario.\n",
    "\n",
    "36 Post length - CCIP - Character count in the post.\n",
    "\n",
    "37 Post Share Count - SHD - This features counts the no of shares of the post, that how many peoples had shared this post on to their timeline.\n",
    "\n",
    "38 Post Promotion Status - NWFD - To reach more people with posts in News Feed, individual promote their post and this features tells that whether the post is promoted(1) or not(0).\n",
    "\n",
    "39 Hours Local - HOURS - This describes the Hours hrs, for which we have the target variable/ comments received.\n",
    "\n",
    "40-46 Post published weekday - (PPW1-PPW7) - This represents the day(Sunday...Saturday) on which the post was published.\n",
    "\n",
    "47-53 Base DateTime weekday - (BDT1-BDT7) - This represents the day(Sunday...Saturday) on selected base Date/Time.\n",
    "\n",
    "54 Target Variable - TARGET - The no of comments in next Hours hrs(Hours is given in Feature no 39)."
   ]
  },
  {
   "cell_type": "markdown",
   "metadata": {},
   "source": [
    "## Model"
   ]
  },
  {
   "cell_type": "code",
   "execution_count": 1,
   "metadata": {},
   "outputs": [],
   "source": [
    "import pandas as pd"
   ]
  },
  {
   "cell_type": "code",
   "execution_count": 2,
   "metadata": {},
   "outputs": [],
   "source": [
    "fb_train = pd.read_csv(\"train_data.csv\")\n",
    "fb_test = pd.read_csv(\"test_data.csv\")"
   ]
  },
  {
   "cell_type": "code",
   "execution_count": 3,
   "metadata": {},
   "outputs": [
    {
     "data": {
      "text/html": [
       "<div>\n",
       "<style scoped>\n",
       "    .dataframe tbody tr th:only-of-type {\n",
       "        vertical-align: middle;\n",
       "    }\n",
       "\n",
       "    .dataframe tbody tr th {\n",
       "        vertical-align: top;\n",
       "    }\n",
       "\n",
       "    .dataframe thead th {\n",
       "        text-align: right;\n",
       "    }\n",
       "</style>\n",
       "<table border=\"1\" class=\"dataframe\">\n",
       "  <thead>\n",
       "    <tr style=\"text-align: right;\">\n",
       "      <th></th>\n",
       "      <th>POPL</th>\n",
       "      <th>IND</th>\n",
       "      <th>INTIND</th>\n",
       "      <th>CAT</th>\n",
       "      <th>P1</th>\n",
       "      <th>P2</th>\n",
       "      <th>P3</th>\n",
       "      <th>P4</th>\n",
       "      <th>P5</th>\n",
       "      <th>P6</th>\n",
       "      <th>...</th>\n",
       "      <th>PPW6</th>\n",
       "      <th>PPW7</th>\n",
       "      <th>BDT1</th>\n",
       "      <th>BDT2</th>\n",
       "      <th>BDT3</th>\n",
       "      <th>BDT4</th>\n",
       "      <th>BDT5</th>\n",
       "      <th>BDT6</th>\n",
       "      <th>BDT7</th>\n",
       "      <th>TARGET</th>\n",
       "    </tr>\n",
       "  </thead>\n",
       "  <tbody>\n",
       "    <tr>\n",
       "      <th>0</th>\n",
       "      <td>634995</td>\n",
       "      <td>0</td>\n",
       "      <td>463</td>\n",
       "      <td>1</td>\n",
       "      <td>0</td>\n",
       "      <td>806</td>\n",
       "      <td>11.291045</td>\n",
       "      <td>1.0</td>\n",
       "      <td>70.495138</td>\n",
       "      <td>0</td>\n",
       "      <td>...</td>\n",
       "      <td>0</td>\n",
       "      <td>0</td>\n",
       "      <td>0</td>\n",
       "      <td>0</td>\n",
       "      <td>0</td>\n",
       "      <td>0</td>\n",
       "      <td>0</td>\n",
       "      <td>0</td>\n",
       "      <td>1</td>\n",
       "      <td>0</td>\n",
       "    </tr>\n",
       "    <tr>\n",
       "      <th>1</th>\n",
       "      <td>634995</td>\n",
       "      <td>0</td>\n",
       "      <td>463</td>\n",
       "      <td>1</td>\n",
       "      <td>0</td>\n",
       "      <td>806</td>\n",
       "      <td>11.291045</td>\n",
       "      <td>1.0</td>\n",
       "      <td>70.495138</td>\n",
       "      <td>0</td>\n",
       "      <td>...</td>\n",
       "      <td>0</td>\n",
       "      <td>0</td>\n",
       "      <td>0</td>\n",
       "      <td>0</td>\n",
       "      <td>0</td>\n",
       "      <td>0</td>\n",
       "      <td>0</td>\n",
       "      <td>1</td>\n",
       "      <td>0</td>\n",
       "      <td>0</td>\n",
       "    </tr>\n",
       "    <tr>\n",
       "      <th>2</th>\n",
       "      <td>634995</td>\n",
       "      <td>0</td>\n",
       "      <td>463</td>\n",
       "      <td>1</td>\n",
       "      <td>0</td>\n",
       "      <td>806</td>\n",
       "      <td>11.291045</td>\n",
       "      <td>1.0</td>\n",
       "      <td>70.495138</td>\n",
       "      <td>0</td>\n",
       "      <td>...</td>\n",
       "      <td>1</td>\n",
       "      <td>0</td>\n",
       "      <td>0</td>\n",
       "      <td>0</td>\n",
       "      <td>0</td>\n",
       "      <td>0</td>\n",
       "      <td>0</td>\n",
       "      <td>0</td>\n",
       "      <td>1</td>\n",
       "      <td>0</td>\n",
       "    </tr>\n",
       "    <tr>\n",
       "      <th>3</th>\n",
       "      <td>634995</td>\n",
       "      <td>0</td>\n",
       "      <td>463</td>\n",
       "      <td>1</td>\n",
       "      <td>0</td>\n",
       "      <td>806</td>\n",
       "      <td>11.291045</td>\n",
       "      <td>1.0</td>\n",
       "      <td>70.495138</td>\n",
       "      <td>0</td>\n",
       "      <td>...</td>\n",
       "      <td>1</td>\n",
       "      <td>0</td>\n",
       "      <td>0</td>\n",
       "      <td>1</td>\n",
       "      <td>0</td>\n",
       "      <td>0</td>\n",
       "      <td>0</td>\n",
       "      <td>0</td>\n",
       "      <td>0</td>\n",
       "      <td>0</td>\n",
       "    </tr>\n",
       "    <tr>\n",
       "      <th>4</th>\n",
       "      <td>634995</td>\n",
       "      <td>0</td>\n",
       "      <td>463</td>\n",
       "      <td>1</td>\n",
       "      <td>0</td>\n",
       "      <td>806</td>\n",
       "      <td>11.291045</td>\n",
       "      <td>1.0</td>\n",
       "      <td>70.495138</td>\n",
       "      <td>0</td>\n",
       "      <td>...</td>\n",
       "      <td>0</td>\n",
       "      <td>0</td>\n",
       "      <td>0</td>\n",
       "      <td>0</td>\n",
       "      <td>0</td>\n",
       "      <td>1</td>\n",
       "      <td>0</td>\n",
       "      <td>0</td>\n",
       "      <td>0</td>\n",
       "      <td>0</td>\n",
       "    </tr>\n",
       "  </tbody>\n",
       "</table>\n",
       "<p>5 rows × 54 columns</p>\n",
       "</div>"
      ],
      "text/plain": [
       "     POPL  IND  INTIND  CAT  P1   P2         P3   P4         P5  P6  ...  \\\n",
       "0  634995    0     463    1   0  806  11.291045  1.0  70.495138   0  ...   \n",
       "1  634995    0     463    1   0  806  11.291045  1.0  70.495138   0  ...   \n",
       "2  634995    0     463    1   0  806  11.291045  1.0  70.495138   0  ...   \n",
       "3  634995    0     463    1   0  806  11.291045  1.0  70.495138   0  ...   \n",
       "4  634995    0     463    1   0  806  11.291045  1.0  70.495138   0  ...   \n",
       "\n",
       "   PPW6  PPW7  BDT1  BDT2  BDT3  BDT4  BDT5  BDT6  BDT7  TARGET  \n",
       "0     0     0     0     0     0     0     0     0     1       0  \n",
       "1     0     0     0     0     0     0     0     1     0       0  \n",
       "2     1     0     0     0     0     0     0     0     1       0  \n",
       "3     1     0     0     1     0     0     0     0     0       0  \n",
       "4     0     0     0     0     0     1     0     0     0       0  \n",
       "\n",
       "[5 rows x 54 columns]"
      ]
     },
     "execution_count": 3,
     "metadata": {},
     "output_type": "execute_result"
    }
   ],
   "source": [
    "fb_train.head()"
   ]
  },
  {
   "cell_type": "code",
   "execution_count": 4,
   "metadata": {},
   "outputs": [
    {
     "data": {
      "text/html": [
       "<div>\n",
       "<style scoped>\n",
       "    .dataframe tbody tr th:only-of-type {\n",
       "        vertical-align: middle;\n",
       "    }\n",
       "\n",
       "    .dataframe tbody tr th {\n",
       "        vertical-align: top;\n",
       "    }\n",
       "\n",
       "    .dataframe thead th {\n",
       "        text-align: right;\n",
       "    }\n",
       "</style>\n",
       "<table border=\"1\" class=\"dataframe\">\n",
       "  <thead>\n",
       "    <tr style=\"text-align: right;\">\n",
       "      <th></th>\n",
       "      <th>POPL</th>\n",
       "      <th>IND</th>\n",
       "      <th>INTIND</th>\n",
       "      <th>CAT</th>\n",
       "      <th>P1</th>\n",
       "      <th>P2</th>\n",
       "      <th>P3</th>\n",
       "      <th>P4</th>\n",
       "      <th>P5</th>\n",
       "      <th>P6</th>\n",
       "      <th>...</th>\n",
       "      <th>PPW6</th>\n",
       "      <th>PPW7</th>\n",
       "      <th>BDT1</th>\n",
       "      <th>BDT2</th>\n",
       "      <th>BDT3</th>\n",
       "      <th>BDT4</th>\n",
       "      <th>BDT5</th>\n",
       "      <th>BDT6</th>\n",
       "      <th>BDT7</th>\n",
       "      <th>TARGET</th>\n",
       "    </tr>\n",
       "  </thead>\n",
       "  <tbody>\n",
       "    <tr>\n",
       "      <th>count</th>\n",
       "      <td>4.094900e+04</td>\n",
       "      <td>40949.000000</td>\n",
       "      <td>4.094900e+04</td>\n",
       "      <td>40949.000000</td>\n",
       "      <td>40949.000000</td>\n",
       "      <td>40949.000000</td>\n",
       "      <td>40949.000000</td>\n",
       "      <td>40949.000000</td>\n",
       "      <td>40949.000000</td>\n",
       "      <td>40949.000000</td>\n",
       "      <td>...</td>\n",
       "      <td>40949.000000</td>\n",
       "      <td>40949.000000</td>\n",
       "      <td>40949.000000</td>\n",
       "      <td>40949.000000</td>\n",
       "      <td>40949.000000</td>\n",
       "      <td>40949.000000</td>\n",
       "      <td>40949.000000</td>\n",
       "      <td>40949.000000</td>\n",
       "      <td>40949.000000</td>\n",
       "      <td>40949.000000</td>\n",
       "    </tr>\n",
       "    <tr>\n",
       "      <th>mean</th>\n",
       "      <td>1.313814e+06</td>\n",
       "      <td>4676.133752</td>\n",
       "      <td>4.480025e+04</td>\n",
       "      <td>24.254780</td>\n",
       "      <td>1.586241</td>\n",
       "      <td>443.333854</td>\n",
       "      <td>55.720384</td>\n",
       "      <td>35.645535</td>\n",
       "      <td>67.464151</td>\n",
       "      <td>0.219468</td>\n",
       "      <td>...</td>\n",
       "      <td>0.146157</td>\n",
       "      <td>0.136926</td>\n",
       "      <td>0.141640</td>\n",
       "      <td>0.132506</td>\n",
       "      <td>0.137635</td>\n",
       "      <td>0.148599</td>\n",
       "      <td>0.150846</td>\n",
       "      <td>0.143886</td>\n",
       "      <td>0.144888</td>\n",
       "      <td>7.322889</td>\n",
       "    </tr>\n",
       "    <tr>\n",
       "      <th>std</th>\n",
       "      <td>6.785752e+06</td>\n",
       "      <td>20593.184863</td>\n",
       "      <td>1.109338e+05</td>\n",
       "      <td>19.950583</td>\n",
       "      <td>20.753174</td>\n",
       "      <td>496.695198</td>\n",
       "      <td>86.933548</td>\n",
       "      <td>69.960232</td>\n",
       "      <td>81.568249</td>\n",
       "      <td>10.055146</td>\n",
       "      <td>...</td>\n",
       "      <td>0.353268</td>\n",
       "      <td>0.343774</td>\n",
       "      <td>0.348684</td>\n",
       "      <td>0.339045</td>\n",
       "      <td>0.344520</td>\n",
       "      <td>0.355698</td>\n",
       "      <td>0.357903</td>\n",
       "      <td>0.350979</td>\n",
       "      <td>0.351992</td>\n",
       "      <td>35.494550</td>\n",
       "    </tr>\n",
       "    <tr>\n",
       "      <th>min</th>\n",
       "      <td>3.600000e+01</td>\n",
       "      <td>0.000000</td>\n",
       "      <td>0.000000e+00</td>\n",
       "      <td>1.000000</td>\n",
       "      <td>0.000000</td>\n",
       "      <td>0.000000</td>\n",
       "      <td>0.000000</td>\n",
       "      <td>0.000000</td>\n",
       "      <td>0.000000</td>\n",
       "      <td>0.000000</td>\n",
       "      <td>...</td>\n",
       "      <td>0.000000</td>\n",
       "      <td>0.000000</td>\n",
       "      <td>0.000000</td>\n",
       "      <td>0.000000</td>\n",
       "      <td>0.000000</td>\n",
       "      <td>0.000000</td>\n",
       "      <td>0.000000</td>\n",
       "      <td>0.000000</td>\n",
       "      <td>0.000000</td>\n",
       "      <td>0.000000</td>\n",
       "    </tr>\n",
       "    <tr>\n",
       "      <th>25%</th>\n",
       "      <td>3.673400e+04</td>\n",
       "      <td>0.000000</td>\n",
       "      <td>6.980000e+02</td>\n",
       "      <td>9.000000</td>\n",
       "      <td>0.000000</td>\n",
       "      <td>45.000000</td>\n",
       "      <td>5.527273</td>\n",
       "      <td>2.000000</td>\n",
       "      <td>8.278756</td>\n",
       "      <td>0.000000</td>\n",
       "      <td>...</td>\n",
       "      <td>0.000000</td>\n",
       "      <td>0.000000</td>\n",
       "      <td>0.000000</td>\n",
       "      <td>0.000000</td>\n",
       "      <td>0.000000</td>\n",
       "      <td>0.000000</td>\n",
       "      <td>0.000000</td>\n",
       "      <td>0.000000</td>\n",
       "      <td>0.000000</td>\n",
       "      <td>0.000000</td>\n",
       "    </tr>\n",
       "    <tr>\n",
       "      <th>50%</th>\n",
       "      <td>2.929110e+05</td>\n",
       "      <td>0.000000</td>\n",
       "      <td>7.045000e+03</td>\n",
       "      <td>18.000000</td>\n",
       "      <td>0.000000</td>\n",
       "      <td>241.000000</td>\n",
       "      <td>23.374101</td>\n",
       "      <td>12.000000</td>\n",
       "      <td>35.069140</td>\n",
       "      <td>0.000000</td>\n",
       "      <td>...</td>\n",
       "      <td>0.000000</td>\n",
       "      <td>0.000000</td>\n",
       "      <td>0.000000</td>\n",
       "      <td>0.000000</td>\n",
       "      <td>0.000000</td>\n",
       "      <td>0.000000</td>\n",
       "      <td>0.000000</td>\n",
       "      <td>0.000000</td>\n",
       "      <td>0.000000</td>\n",
       "      <td>0.000000</td>\n",
       "    </tr>\n",
       "    <tr>\n",
       "      <th>75%</th>\n",
       "      <td>1.204214e+06</td>\n",
       "      <td>99.000000</td>\n",
       "      <td>5.026400e+04</td>\n",
       "      <td>32.000000</td>\n",
       "      <td>0.000000</td>\n",
       "      <td>717.000000</td>\n",
       "      <td>71.828829</td>\n",
       "      <td>42.000000</td>\n",
       "      <td>102.554953</td>\n",
       "      <td>0.000000</td>\n",
       "      <td>...</td>\n",
       "      <td>0.000000</td>\n",
       "      <td>0.000000</td>\n",
       "      <td>0.000000</td>\n",
       "      <td>0.000000</td>\n",
       "      <td>0.000000</td>\n",
       "      <td>0.000000</td>\n",
       "      <td>0.000000</td>\n",
       "      <td>0.000000</td>\n",
       "      <td>0.000000</td>\n",
       "      <td>3.000000</td>\n",
       "    </tr>\n",
       "    <tr>\n",
       "      <th>max</th>\n",
       "      <td>4.869723e+08</td>\n",
       "      <td>186370.000000</td>\n",
       "      <td>6.089942e+06</td>\n",
       "      <td>106.000000</td>\n",
       "      <td>2341.000000</td>\n",
       "      <td>2341.000000</td>\n",
       "      <td>2341.000000</td>\n",
       "      <td>2341.000000</td>\n",
       "      <td>731.394558</td>\n",
       "      <td>1923.000000</td>\n",
       "      <td>...</td>\n",
       "      <td>1.000000</td>\n",
       "      <td>1.000000</td>\n",
       "      <td>1.000000</td>\n",
       "      <td>1.000000</td>\n",
       "      <td>1.000000</td>\n",
       "      <td>1.000000</td>\n",
       "      <td>1.000000</td>\n",
       "      <td>1.000000</td>\n",
       "      <td>1.000000</td>\n",
       "      <td>1305.000000</td>\n",
       "    </tr>\n",
       "  </tbody>\n",
       "</table>\n",
       "<p>8 rows × 54 columns</p>\n",
       "</div>"
      ],
      "text/plain": [
       "               POPL            IND        INTIND           CAT            P1  \\\n",
       "count  4.094900e+04   40949.000000  4.094900e+04  40949.000000  40949.000000   \n",
       "mean   1.313814e+06    4676.133752  4.480025e+04     24.254780      1.586241   \n",
       "std    6.785752e+06   20593.184863  1.109338e+05     19.950583     20.753174   \n",
       "min    3.600000e+01       0.000000  0.000000e+00      1.000000      0.000000   \n",
       "25%    3.673400e+04       0.000000  6.980000e+02      9.000000      0.000000   \n",
       "50%    2.929110e+05       0.000000  7.045000e+03     18.000000      0.000000   \n",
       "75%    1.204214e+06      99.000000  5.026400e+04     32.000000      0.000000   \n",
       "max    4.869723e+08  186370.000000  6.089942e+06    106.000000   2341.000000   \n",
       "\n",
       "                 P2            P3            P4            P5            P6  \\\n",
       "count  40949.000000  40949.000000  40949.000000  40949.000000  40949.000000   \n",
       "mean     443.333854     55.720384     35.645535     67.464151      0.219468   \n",
       "std      496.695198     86.933548     69.960232     81.568249     10.055146   \n",
       "min        0.000000      0.000000      0.000000      0.000000      0.000000   \n",
       "25%       45.000000      5.527273      2.000000      8.278756      0.000000   \n",
       "50%      241.000000     23.374101     12.000000     35.069140      0.000000   \n",
       "75%      717.000000     71.828829     42.000000    102.554953      0.000000   \n",
       "max     2341.000000   2341.000000   2341.000000    731.394558   1923.000000   \n",
       "\n",
       "       ...          PPW6          PPW7          BDT1          BDT2  \\\n",
       "count  ...  40949.000000  40949.000000  40949.000000  40949.000000   \n",
       "mean   ...      0.146157      0.136926      0.141640      0.132506   \n",
       "std    ...      0.353268      0.343774      0.348684      0.339045   \n",
       "min    ...      0.000000      0.000000      0.000000      0.000000   \n",
       "25%    ...      0.000000      0.000000      0.000000      0.000000   \n",
       "50%    ...      0.000000      0.000000      0.000000      0.000000   \n",
       "75%    ...      0.000000      0.000000      0.000000      0.000000   \n",
       "max    ...      1.000000      1.000000      1.000000      1.000000   \n",
       "\n",
       "               BDT3          BDT4          BDT5          BDT6          BDT7  \\\n",
       "count  40949.000000  40949.000000  40949.000000  40949.000000  40949.000000   \n",
       "mean       0.137635      0.148599      0.150846      0.143886      0.144888   \n",
       "std        0.344520      0.355698      0.357903      0.350979      0.351992   \n",
       "min        0.000000      0.000000      0.000000      0.000000      0.000000   \n",
       "25%        0.000000      0.000000      0.000000      0.000000      0.000000   \n",
       "50%        0.000000      0.000000      0.000000      0.000000      0.000000   \n",
       "75%        0.000000      0.000000      0.000000      0.000000      0.000000   \n",
       "max        1.000000      1.000000      1.000000      1.000000      1.000000   \n",
       "\n",
       "             TARGET  \n",
       "count  40949.000000  \n",
       "mean       7.322889  \n",
       "std       35.494550  \n",
       "min        0.000000  \n",
       "25%        0.000000  \n",
       "50%        0.000000  \n",
       "75%        3.000000  \n",
       "max     1305.000000  \n",
       "\n",
       "[8 rows x 54 columns]"
      ]
     },
     "execution_count": 4,
     "metadata": {},
     "output_type": "execute_result"
    }
   ],
   "source": [
    "fb_train.describe()"
   ]
  },
  {
   "cell_type": "code",
   "execution_count": 5,
   "metadata": {},
   "outputs": [
    {
     "name": "stdout",
     "output_type": "stream",
     "text": [
      "<class 'pandas.core.frame.DataFrame'>\n",
      "RangeIndex: 40949 entries, 0 to 40948\n",
      "Data columns (total 54 columns):\n",
      " #   Column   Non-Null Count  Dtype  \n",
      "---  ------   --------------  -----  \n",
      " 0   POPL     40949 non-null  int64  \n",
      " 1   IND      40949 non-null  int64  \n",
      " 2   INTIND   40949 non-null  int64  \n",
      " 3   CAT      40949 non-null  int64  \n",
      " 4   P1       40949 non-null  int64  \n",
      " 5   P2       40949 non-null  int64  \n",
      " 6   P3       40949 non-null  float64\n",
      " 7   P4       40949 non-null  float64\n",
      " 8   P5       40949 non-null  float64\n",
      " 9   P6       40949 non-null  int64  \n",
      " 10  P7       40949 non-null  int64  \n",
      " 11  P8       40949 non-null  float64\n",
      " 12  P9       40949 non-null  float64\n",
      " 13  P10      40949 non-null  float64\n",
      " 14  P11      40949 non-null  int64  \n",
      " 15  P12      40949 non-null  int64  \n",
      " 16  P13      40949 non-null  float64\n",
      " 17  P14      40949 non-null  float64\n",
      " 18  P15      40949 non-null  float64\n",
      " 19  P16      40949 non-null  int64  \n",
      " 20  P17      40949 non-null  int64  \n",
      " 21  P18      40949 non-null  float64\n",
      " 22  P19      40949 non-null  float64\n",
      " 23  P20      40949 non-null  float64\n",
      " 24  P21      40949 non-null  int64  \n",
      " 25  P22      40949 non-null  int64  \n",
      " 26  P23      40949 non-null  float64\n",
      " 27  P24      40949 non-null  float64\n",
      " 28  P25      40949 non-null  float64\n",
      " 29  TCMTS    40949 non-null  int64  \n",
      " 30  CMT24    40949 non-null  int64  \n",
      " 31  CMT2D    40949 non-null  int64  \n",
      " 32  CMT1D    40949 non-null  int64  \n",
      " 33  C24-C2D  40949 non-null  int64  \n",
      " 34  SST      40949 non-null  int64  \n",
      " 35  CCIP     40949 non-null  int64  \n",
      " 36  SHD      40949 non-null  int64  \n",
      " 37  NWFD     40949 non-null  int64  \n",
      " 38  HOURS    40949 non-null  int64  \n",
      " 39  PPW1     40949 non-null  int64  \n",
      " 40  PPW2     40949 non-null  int64  \n",
      " 41  PPW3     40949 non-null  int64  \n",
      " 42  PPW4     40949 non-null  int64  \n",
      " 43  PPW5     40949 non-null  int64  \n",
      " 44  PPW6     40949 non-null  int64  \n",
      " 45  PPW7     40949 non-null  int64  \n",
      " 46  BDT1     40949 non-null  int64  \n",
      " 47  BDT2     40949 non-null  int64  \n",
      " 48  BDT3     40949 non-null  int64  \n",
      " 49  BDT4     40949 non-null  int64  \n",
      " 50  BDT5     40949 non-null  int64  \n",
      " 51  BDT6     40949 non-null  int64  \n",
      " 52  BDT7     40949 non-null  int64  \n",
      " 53  TARGET   40949 non-null  int64  \n",
      "dtypes: float64(15), int64(39)\n",
      "memory usage: 16.9 MB\n"
     ]
    }
   ],
   "source": [
    "fb_train.info()"
   ]
  },
  {
   "cell_type": "code",
   "execution_count": 6,
   "metadata": {},
   "outputs": [
    {
     "data": {
      "text/plain": [
       "0      22579\n",
       "1       5194\n",
       "2       2624\n",
       "3       1583\n",
       "4       1171\n",
       "       ...  \n",
       "209        1\n",
       "145        1\n",
       "720        1\n",
       "496        1\n",
       "336        1\n",
       "Name: TARGET, Length: 361, dtype: int64"
      ]
     },
     "execution_count": 6,
     "metadata": {},
     "output_type": "execute_result"
    }
   ],
   "source": [
    "fb_train['TARGET'].value_counts()"
   ]
  },
  {
   "cell_type": "code",
   "execution_count": 7,
   "metadata": {},
   "outputs": [],
   "source": [
    "import matplotlib.pyplot as plt"
   ]
  },
  {
   "cell_type": "code",
   "execution_count": 8,
   "metadata": {},
   "outputs": [
    {
     "data": {
      "image/png": "[encoded data removed]",
      "text/plain": [
       "<Figure size 1440x1080 with 56 Axes>"
      ]
     },
     "metadata": {
      "needs_background": "light"
     },
     "output_type": "display_data"
    }
   ],
   "source": [
    "fb_train.hist(bins=50 , figsize=(20,15))\n",
    "plt.show()"
   ]
  },
  {
   "cell_type": "code",
   "execution_count": 9,
   "metadata": {},
   "outputs": [
    {
     "data": {
      "text/plain": [
       "TARGET     1.000000\n",
       "CMT24      0.528696\n",
       "C24-C2D    0.378453\n",
       "P8         0.344827\n",
       "CMT1D      0.341741\n",
       "P3         0.334986\n",
       "P18        0.333990\n",
       "TCMTS      0.326882\n",
       "P4         0.325367\n",
       "P19        0.324373\n",
       "P13        0.317867\n",
       "P9         0.309461\n",
       "P25        0.308800\n",
       "P5         0.300229\n",
       "P10        0.297203\n",
       "P15        0.296790\n",
       "P20        0.295221\n",
       "P14        0.276432\n",
       "P2         0.231432\n",
       "P12        0.229884\n",
       "P17        0.225908\n",
       "P7         0.217754\n",
       "P22        0.213866\n",
       "INTIND     0.177330\n",
       "P16        0.164300\n",
       "P23        0.162492\n",
       "P1         0.156940\n",
       "SHD        0.139295\n",
       "P6         0.103345\n",
       "CMT2D      0.072088\n",
       "POPL       0.058918\n",
       "IND        0.022982\n",
       "PPW4       0.021169\n",
       "BDT4       0.017299\n",
       "HOURS      0.012584\n",
       "P11        0.011900\n",
       "BDT5       0.007104\n",
       "PPW1       0.001449\n",
       "PPW3       0.001263\n",
       "BDT3      -0.000131\n",
       "BDT2      -0.000266\n",
       "CCIP      -0.000622\n",
       "BDT6      -0.001383\n",
       "PPW2      -0.003071\n",
       "PPW5      -0.004486\n",
       "PPW6      -0.005043\n",
       "BDT7      -0.010611\n",
       "PPW7      -0.012229\n",
       "BDT1      -0.012447\n",
       "P24       -0.019504\n",
       "CAT       -0.073673\n",
       "P21       -0.214047\n",
       "SST       -0.221962\n",
       "NWFD            NaN\n",
       "Name: TARGET, dtype: float64"
      ]
     },
     "execution_count": 9,
     "metadata": {},
     "output_type": "execute_result"
    }
   ],
   "source": [
    "corr_matrix = fb_train.corr()\n",
    "\n",
    "corr_matrix['TARGET'].sort_values(ascending = False)"
   ]
  },
  {
   "cell_type": "code",
   "execution_count": 10,
   "metadata": {},
   "outputs": [],
   "source": [
    "from pandas.plotting import scatter_matrix"
   ]
  },
  {
   "cell_type": "code",
   "execution_count": 11,
   "metadata": {},
   "outputs": [
    {
     "data": {
      "text/plain": [
       "array([[<AxesSubplot:xlabel='TARGET', ylabel='TARGET'>,\n",
       "        <AxesSubplot:xlabel='CMT24', ylabel='TARGET'>,\n",
       "        <AxesSubplot:xlabel='SST', ylabel='TARGET'>],\n",
       "       [<AxesSubplot:xlabel='TARGET', ylabel='CMT24'>,\n",
       "        <AxesSubplot:xlabel='CMT24', ylabel='CMT24'>,\n",
       "        <AxesSubplot:xlabel='SST', ylabel='CMT24'>],\n",
       "       [<AxesSubplot:xlabel='TARGET', ylabel='SST'>,\n",
       "        <AxesSubplot:xlabel='CMT24', ylabel='SST'>,\n",
       "        <AxesSubplot:xlabel='SST', ylabel='SST'>]], dtype=object)"
      ]
     },
     "execution_count": 11,
     "metadata": {},
     "output_type": "execute_result"
    },
    {
     "data": {
      "image/png": "[encoded data removed]",
      "text/plain": [
       "<Figure size 864x576 with 9 Axes>"
      ]
     },
     "metadata": {
      "needs_background": "light"
     },
     "output_type": "display_data"
    }
   ],
   "source": [
    "atr = ['TARGET','CMT24','SST']\n",
    "scatter_matrix(fb_train[atr],figsize=(12,8))"
   ]
  },
  {
   "cell_type": "code",
   "execution_count": 12,
   "metadata": {},
   "outputs": [
    {
     "data": {
      "text/plain": [
       "<AxesSubplot:xlabel='TARGET', ylabel='CMT24'>"
      ]
     },
     "execution_count": 12,
     "metadata": {},
     "output_type": "execute_result"
    },
    {
     "data": {
      "image/png": "[encoded data removed]",
      "text/plain": [
       "<Figure size 432x288 with 1 Axes>"
      ]
     },
     "metadata": {
      "needs_background": "light"
     },
     "output_type": "display_data"
    }
   ],
   "source": [
    "fb_train.plot(kind=\"scatter\",x='TARGET',y='CMT24',alpha=0.5)"
   ]
  },
  {
   "cell_type": "code",
   "execution_count": 13,
   "metadata": {},
   "outputs": [],
   "source": [
    "fb_train_f = fb_train.drop('TARGET',axis=1)\n",
    "fb_train_l = fb_train['TARGET']"
   ]
  },
  {
   "cell_type": "code",
   "execution_count": 14,
   "metadata": {},
   "outputs": [
    {
     "data": {
      "text/plain": [
       "SimpleImputer(strategy='median')"
      ]
     },
     "execution_count": 14,
     "metadata": {},
     "output_type": "execute_result"
    }
   ],
   "source": [
    "from sklearn.impute import SimpleImputer\n",
    "imputer = SimpleImputer(strategy = \"median\")\n",
    "imputer.fit(fb_train_f)"
   ]
  },
  {
   "cell_type": "code",
   "execution_count": 15,
   "metadata": {},
   "outputs": [
    {
     "data": {
      "text/plain": [
       "array([ 2.92911000e+05,  0.00000000e+00,  7.04500000e+03,  1.80000000e+01,\n",
       "        0.00000000e+00,  2.41000000e+02,  2.33741007e+01,  1.20000000e+01,\n",
       "        3.50691399e+01,  0.00000000e+00,  1.18000000e+02,  8.43750000e+00,\n",
       "        2.00000000e+00,  1.73827088e+01,  0.00000000e+00,  1.16000000e+02,\n",
       "        8.58426966e+00,  1.00000000e+00,  1.86399842e+01,  0.00000000e+00,\n",
       "        2.24000000e+02,  2.18593750e+01,  1.20000000e+01,  3.23688481e+01,\n",
       "       -9.20000000e+01,  1.09000000e+02,  2.73809524e-01,  0.00000000e+00,\n",
       "        2.55471717e+01,  1.10000000e+01,  2.00000000e+00,  0.00000000e+00,\n",
       "        1.00000000e+01,  0.00000000e+00,  3.50000000e+01,  9.70000000e+01,\n",
       "        1.30000000e+01,  0.00000000e+00,  2.40000000e+01,  0.00000000e+00,\n",
       "        0.00000000e+00,  0.00000000e+00,  0.00000000e+00,  0.00000000e+00,\n",
       "        0.00000000e+00,  0.00000000e+00,  0.00000000e+00,  0.00000000e+00,\n",
       "        0.00000000e+00,  0.00000000e+00,  0.00000000e+00,  0.00000000e+00,\n",
       "        0.00000000e+00])"
      ]
     },
     "execution_count": 15,
     "metadata": {},
     "output_type": "execute_result"
    }
   ],
   "source": [
    "imputer.statistics_"
   ]
  },
  {
   "cell_type": "code",
   "execution_count": 16,
   "metadata": {},
   "outputs": [
    {
     "data": {
      "text/html": [
       "<div>\n",
       "<style scoped>\n",
       "    .dataframe tbody tr th:only-of-type {\n",
       "        vertical-align: middle;\n",
       "    }\n",
       "\n",
       "    .dataframe tbody tr th {\n",
       "        vertical-align: top;\n",
       "    }\n",
       "\n",
       "    .dataframe thead th {\n",
       "        text-align: right;\n",
       "    }\n",
       "</style>\n",
       "<table border=\"1\" class=\"dataframe\">\n",
       "  <thead>\n",
       "    <tr style=\"text-align: right;\">\n",
       "      <th></th>\n",
       "      <th>POPL</th>\n",
       "      <th>IND</th>\n",
       "      <th>INTIND</th>\n",
       "      <th>CAT</th>\n",
       "      <th>P1</th>\n",
       "      <th>P2</th>\n",
       "      <th>P3</th>\n",
       "      <th>P4</th>\n",
       "      <th>P5</th>\n",
       "      <th>P6</th>\n",
       "      <th>...</th>\n",
       "      <th>PPW5</th>\n",
       "      <th>PPW6</th>\n",
       "      <th>PPW7</th>\n",
       "      <th>BDT1</th>\n",
       "      <th>BDT2</th>\n",
       "      <th>BDT3</th>\n",
       "      <th>BDT4</th>\n",
       "      <th>BDT5</th>\n",
       "      <th>BDT6</th>\n",
       "      <th>BDT7</th>\n",
       "    </tr>\n",
       "  </thead>\n",
       "  <tbody>\n",
       "    <tr>\n",
       "      <th>count</th>\n",
       "      <td>4.094900e+04</td>\n",
       "      <td>40949.000000</td>\n",
       "      <td>4.094900e+04</td>\n",
       "      <td>40949.000000</td>\n",
       "      <td>40949.000000</td>\n",
       "      <td>40949.000000</td>\n",
       "      <td>40949.000000</td>\n",
       "      <td>40949.000000</td>\n",
       "      <td>40949.000000</td>\n",
       "      <td>40949.000000</td>\n",
       "      <td>...</td>\n",
       "      <td>40949.000000</td>\n",
       "      <td>40949.000000</td>\n",
       "      <td>40949.000000</td>\n",
       "      <td>40949.000000</td>\n",
       "      <td>40949.000000</td>\n",
       "      <td>40949.000000</td>\n",
       "      <td>40949.000000</td>\n",
       "      <td>40949.000000</td>\n",
       "      <td>40949.000000</td>\n",
       "      <td>40949.000000</td>\n",
       "    </tr>\n",
       "    <tr>\n",
       "      <th>mean</th>\n",
       "      <td>1.313814e+06</td>\n",
       "      <td>4676.133752</td>\n",
       "      <td>4.480025e+04</td>\n",
       "      <td>24.254780</td>\n",
       "      <td>1.586241</td>\n",
       "      <td>443.333854</td>\n",
       "      <td>55.720384</td>\n",
       "      <td>35.645535</td>\n",
       "      <td>67.464151</td>\n",
       "      <td>0.219468</td>\n",
       "      <td>...</td>\n",
       "      <td>0.144033</td>\n",
       "      <td>0.146157</td>\n",
       "      <td>0.136926</td>\n",
       "      <td>0.141640</td>\n",
       "      <td>0.132506</td>\n",
       "      <td>0.137635</td>\n",
       "      <td>0.148599</td>\n",
       "      <td>0.150846</td>\n",
       "      <td>0.143886</td>\n",
       "      <td>0.144888</td>\n",
       "    </tr>\n",
       "    <tr>\n",
       "      <th>std</th>\n",
       "      <td>6.785752e+06</td>\n",
       "      <td>20593.184863</td>\n",
       "      <td>1.109338e+05</td>\n",
       "      <td>19.950583</td>\n",
       "      <td>20.753174</td>\n",
       "      <td>496.695198</td>\n",
       "      <td>86.933548</td>\n",
       "      <td>69.960232</td>\n",
       "      <td>81.568249</td>\n",
       "      <td>10.055146</td>\n",
       "      <td>...</td>\n",
       "      <td>0.351127</td>\n",
       "      <td>0.353268</td>\n",
       "      <td>0.343774</td>\n",
       "      <td>0.348684</td>\n",
       "      <td>0.339045</td>\n",
       "      <td>0.344520</td>\n",
       "      <td>0.355698</td>\n",
       "      <td>0.357903</td>\n",
       "      <td>0.350979</td>\n",
       "      <td>0.351992</td>\n",
       "    </tr>\n",
       "    <tr>\n",
       "      <th>min</th>\n",
       "      <td>3.600000e+01</td>\n",
       "      <td>0.000000</td>\n",
       "      <td>0.000000e+00</td>\n",
       "      <td>1.000000</td>\n",
       "      <td>0.000000</td>\n",
       "      <td>0.000000</td>\n",
       "      <td>0.000000</td>\n",
       "      <td>0.000000</td>\n",
       "      <td>0.000000</td>\n",
       "      <td>0.000000</td>\n",
       "      <td>...</td>\n",
       "      <td>0.000000</td>\n",
       "      <td>0.000000</td>\n",
       "      <td>0.000000</td>\n",
       "      <td>0.000000</td>\n",
       "      <td>0.000000</td>\n",
       "      <td>0.000000</td>\n",
       "      <td>0.000000</td>\n",
       "      <td>0.000000</td>\n",
       "      <td>0.000000</td>\n",
       "      <td>0.000000</td>\n",
       "    </tr>\n",
       "    <tr>\n",
       "      <th>25%</th>\n",
       "      <td>3.673400e+04</td>\n",
       "      <td>0.000000</td>\n",
       "      <td>6.980000e+02</td>\n",
       "      <td>9.000000</td>\n",
       "      <td>0.000000</td>\n",
       "      <td>45.000000</td>\n",
       "      <td>5.527273</td>\n",
       "      <td>2.000000</td>\n",
       "      <td>8.278756</td>\n",
       "      <td>0.000000</td>\n",
       "      <td>...</td>\n",
       "      <td>0.000000</td>\n",
       "      <td>0.000000</td>\n",
       "      <td>0.000000</td>\n",
       "      <td>0.000000</td>\n",
       "      <td>0.000000</td>\n",
       "      <td>0.000000</td>\n",
       "      <td>0.000000</td>\n",
       "      <td>0.000000</td>\n",
       "      <td>0.000000</td>\n",
       "      <td>0.000000</td>\n",
       "    </tr>\n",
       "    <tr>\n",
       "      <th>50%</th>\n",
       "      <td>2.929110e+05</td>\n",
       "      <td>0.000000</td>\n",
       "      <td>7.045000e+03</td>\n",
       "      <td>18.000000</td>\n",
       "      <td>0.000000</td>\n",
       "      <td>241.000000</td>\n",
       "      <td>23.374101</td>\n",
       "      <td>12.000000</td>\n",
       "      <td>35.069140</td>\n",
       "      <td>0.000000</td>\n",
       "      <td>...</td>\n",
       "      <td>0.000000</td>\n",
       "      <td>0.000000</td>\n",
       "      <td>0.000000</td>\n",
       "      <td>0.000000</td>\n",
       "      <td>0.000000</td>\n",
       "      <td>0.000000</td>\n",
       "      <td>0.000000</td>\n",
       "      <td>0.000000</td>\n",
       "      <td>0.000000</td>\n",
       "      <td>0.000000</td>\n",
       "    </tr>\n",
       "    <tr>\n",
       "      <th>75%</th>\n",
       "      <td>1.204214e+06</td>\n",
       "      <td>99.000000</td>\n",
       "      <td>5.026400e+04</td>\n",
       "      <td>32.000000</td>\n",
       "      <td>0.000000</td>\n",
       "      <td>717.000000</td>\n",
       "      <td>71.828829</td>\n",
       "      <td>42.000000</td>\n",
       "      <td>102.554953</td>\n",
       "      <td>0.000000</td>\n",
       "      <td>...</td>\n",
       "      <td>0.000000</td>\n",
       "      <td>0.000000</td>\n",
       "      <td>0.000000</td>\n",
       "      <td>0.000000</td>\n",
       "      <td>0.000000</td>\n",
       "      <td>0.000000</td>\n",
       "      <td>0.000000</td>\n",
       "      <td>0.000000</td>\n",
       "      <td>0.000000</td>\n",
       "      <td>0.000000</td>\n",
       "    </tr>\n",
       "    <tr>\n",
       "      <th>max</th>\n",
       "      <td>4.869723e+08</td>\n",
       "      <td>186370.000000</td>\n",
       "      <td>6.089942e+06</td>\n",
       "      <td>106.000000</td>\n",
       "      <td>2341.000000</td>\n",
       "      <td>2341.000000</td>\n",
       "      <td>2341.000000</td>\n",
       "      <td>2341.000000</td>\n",
       "      <td>731.394558</td>\n",
       "      <td>1923.000000</td>\n",
       "      <td>...</td>\n",
       "      <td>1.000000</td>\n",
       "      <td>1.000000</td>\n",
       "      <td>1.000000</td>\n",
       "      <td>1.000000</td>\n",
       "      <td>1.000000</td>\n",
       "      <td>1.000000</td>\n",
       "      <td>1.000000</td>\n",
       "      <td>1.000000</td>\n",
       "      <td>1.000000</td>\n",
       "      <td>1.000000</td>\n",
       "    </tr>\n",
       "  </tbody>\n",
       "</table>\n",
       "<p>8 rows × 53 columns</p>\n",
       "</div>"
      ],
      "text/plain": [
       "               POPL            IND        INTIND           CAT            P1  \\\n",
       "count  4.094900e+04   40949.000000  4.094900e+04  40949.000000  40949.000000   \n",
       "mean   1.313814e+06    4676.133752  4.480025e+04     24.254780      1.586241   \n",
       "std    6.785752e+06   20593.184863  1.109338e+05     19.950583     20.753174   \n",
       "min    3.600000e+01       0.000000  0.000000e+00      1.000000      0.000000   \n",
       "25%    3.673400e+04       0.000000  6.980000e+02      9.000000      0.000000   \n",
       "50%    2.929110e+05       0.000000  7.045000e+03     18.000000      0.000000   \n",
       "75%    1.204214e+06      99.000000  5.026400e+04     32.000000      0.000000   \n",
       "max    4.869723e+08  186370.000000  6.089942e+06    106.000000   2341.000000   \n",
       "\n",
       "                 P2            P3            P4            P5            P6  \\\n",
       "count  40949.000000  40949.000000  40949.000000  40949.000000  40949.000000   \n",
       "mean     443.333854     55.720384     35.645535     67.464151      0.219468   \n",
       "std      496.695198     86.933548     69.960232     81.568249     10.055146   \n",
       "min        0.000000      0.000000      0.000000      0.000000      0.000000   \n",
       "25%       45.000000      5.527273      2.000000      8.278756      0.000000   \n",
       "50%      241.000000     23.374101     12.000000     35.069140      0.000000   \n",
       "75%      717.000000     71.828829     42.000000    102.554953      0.000000   \n",
       "max     2341.000000   2341.000000   2341.000000    731.394558   1923.000000   \n",
       "\n",
       "       ...          PPW5          PPW6          PPW7          BDT1  \\\n",
       "count  ...  40949.000000  40949.000000  40949.000000  40949.000000   \n",
       "mean   ...      0.144033      0.146157      0.136926      0.141640   \n",
       "std    ...      0.351127      0.353268      0.343774      0.348684   \n",
       "min    ...      0.000000      0.000000      0.000000      0.000000   \n",
       "25%    ...      0.000000      0.000000      0.000000      0.000000   \n",
       "50%    ...      0.000000      0.000000      0.000000      0.000000   \n",
       "75%    ...      0.000000      0.000000      0.000000      0.000000   \n",
       "max    ...      1.000000      1.000000      1.000000      1.000000   \n",
       "\n",
       "               BDT2          BDT3          BDT4          BDT5          BDT6  \\\n",
       "count  40949.000000  40949.000000  40949.000000  40949.000000  40949.000000   \n",
       "mean       0.132506      0.137635      0.148599      0.150846      0.143886   \n",
       "std        0.339045      0.344520      0.355698      0.357903      0.350979   \n",
       "min        0.000000      0.000000      0.000000      0.000000      0.000000   \n",
       "25%        0.000000      0.000000      0.000000      0.000000      0.000000   \n",
       "50%        0.000000      0.000000      0.000000      0.000000      0.000000   \n",
       "75%        0.000000      0.000000      0.000000      0.000000      0.000000   \n",
       "max        1.000000      1.000000      1.000000      1.000000      1.000000   \n",
       "\n",
       "               BDT7  \n",
       "count  40949.000000  \n",
       "mean       0.144888  \n",
       "std        0.351992  \n",
       "min        0.000000  \n",
       "25%        0.000000  \n",
       "50%        0.000000  \n",
       "75%        0.000000  \n",
       "max        1.000000  \n",
       "\n",
       "[8 rows x 53 columns]"
      ]
     },
     "execution_count": 16,
     "metadata": {},
     "output_type": "execute_result"
    }
   ],
   "source": [
    "x = imputer.transform(fb_train_f)\n",
    "fb_train_tr = pd.DataFrame(x, columns=fb_train_f.columns)\n",
    "fb_train_tr.describe()"
   ]
  },
  {
   "cell_type": "code",
   "execution_count": 17,
   "metadata": {},
   "outputs": [],
   "source": [
    "from sklearn.pipeline import Pipeline\n",
    "from sklearn.preprocessing import StandardScaler\n",
    "\n",
    "my_pipeline = Pipeline([\n",
    "    ('imputer',SimpleImputer(strategy=\"median\")),\n",
    "    ('std_scaler' , StandardScaler())\n",
    "])"
   ]
  },
  {
   "cell_type": "code",
   "execution_count": 18,
   "metadata": {},
   "outputs": [],
   "source": [
    "fb_train_tr = my_pipeline.fit_transform(fb_train)"
   ]
  },
  {
   "cell_type": "code",
   "execution_count": 19,
   "metadata": {},
   "outputs": [
    {
     "data": {
      "text/plain": [
       "array([[-0.10003712, -0.22707468, -0.39967795, ..., -0.40996237,\n",
       "         2.42938358, -0.20631277],\n",
       "       [-0.10003712, -0.22707468, -0.39967795, ...,  2.43924827,\n",
       "        -0.41162705, -0.20631277],\n",
       "       [-0.10003712, -0.22707468, -0.39967795, ..., -0.40996237,\n",
       "         2.42938358, -0.20631277],\n",
       "       ...,\n",
       "       [ 0.86303905, -0.22367546,  4.07635256, ..., -0.40996237,\n",
       "        -0.41162705,  1.82219244],\n",
       "       [ 0.86303905, -0.22367546,  4.07635256, ...,  2.43924827,\n",
       "        -0.41162705,  0.58255037],\n",
       "       [ 0.86303905, -0.22367546,  4.07635256, ...,  2.43924827,\n",
       "        -0.41162705,  0.10359775]])"
      ]
     },
     "execution_count": 19,
     "metadata": {},
     "output_type": "execute_result"
    }
   ],
   "source": [
    "fb_train_tr"
   ]
  },
  {
   "cell_type": "code",
   "execution_count": 20,
   "metadata": {},
   "outputs": [],
   "source": [
    "from sklearn.linear_model import LinearRegression\n",
    "\n",
    "from sklearn.tree import DecisionTreeRegressor\n",
    "\n",
    "from sklearn.ensemble import RandomForestRegressor\n",
    "\n",
    "#model = LinearRegression()\n",
    "\n",
    "#model = DecisionTreeRegressor()\n",
    "\n",
    "model = RandomForestRegressor()"
   ]
  },
  {
   "cell_type": "code",
   "execution_count": 21,
   "metadata": {},
   "outputs": [
    {
     "data": {
      "text/plain": [
       "RandomForestRegressor()"
      ]
     },
     "execution_count": 21,
     "metadata": {},
     "output_type": "execute_result"
    }
   ],
   "source": [
    "model.fit(fb_train_tr , fb_train_l)"
   ]
  },
  {
   "cell_type": "code",
   "execution_count": 22,
   "metadata": {},
   "outputs": [
    {
     "data": {
      "text/plain": [
       "array([1., 0., 0., ..., 0., 0., 1.])"
      ]
     },
     "execution_count": 22,
     "metadata": {},
     "output_type": "execute_result"
    }
   ],
   "source": [
    "some_data = fb_test.iloc[:10000]\n",
    "some_labels = fb_test.iloc[:10000]\n",
    "\n",
    "prepared_data = my_pipeline.transform(some_data)\n",
    "\n",
    "model.predict(prepared_data)"
   ]
  },
  {
   "cell_type": "code",
   "execution_count": 23,
   "metadata": {},
   "outputs": [
    {
     "data": {
      "text/plain": [
       "['A',\n",
       " 'B',\n",
       " 'C',\n",
       " 'D',\n",
       " 'E',\n",
       " 'F',\n",
       " 'G',\n",
       " 'H',\n",
       " 'I',\n",
       " 'J',\n",
       " 'K',\n",
       " 'L',\n",
       " 'M',\n",
       " 'N',\n",
       " 'O',\n",
       " 'P',\n",
       " 'Q',\n",
       " 'R',\n",
       " 'S',\n",
       " 'T',\n",
       " 'U',\n",
       " 'V',\n",
       " 'W',\n",
       " 'X',\n",
       " 'Y',\n",
       " 'Z',\n",
       " 'AA',\n",
       " 'AB',\n",
       " 'AC',\n",
       " 'AD',\n",
       " 'AE',\n",
       " 'AF',\n",
       " 'AG',\n",
       " 'AH',\n",
       " 'AI',\n",
       " 'AJ',\n",
       " 'AK',\n",
       " 'AL',\n",
       " 'AM',\n",
       " 'AN',\n",
       " 'AO',\n",
       " 'AP',\n",
       " 'AQ',\n",
       " 'AR',\n",
       " 'AS',\n",
       " 'AT',\n",
       " 'AU',\n",
       " 'AV',\n",
       " 'AW',\n",
       " 'AX',\n",
       " 'AY',\n",
       " 'AZ',\n",
       " 'BA',\n",
       " 'BB']"
      ]
     },
     "execution_count": 23,
     "metadata": {},
     "output_type": "execute_result"
    }
   ],
   "source": [
    "list(some_labels)"
   ]
  },
  {
   "cell_type": "code",
   "execution_count": 24,
   "metadata": {},
   "outputs": [],
   "source": [
    "from sklearn.metrics import mean_squared_error\n",
    "\n",
    "import numpy as np\n",
    "\n",
    "fb_predictions = model.predict(fb_train_tr) \n",
    "\n",
    "lin_mse = mean_squared_error(fb_train_l , fb_predictions)\n",
    "\n",
    "lin_rmse = np.sqrt(lin_mse)"
   ]
  },
  {
   "cell_type": "code",
   "execution_count": 25,
   "metadata": {},
   "outputs": [
    {
     "data": {
      "text/plain": [
       "0.6155803586875596"
      ]
     },
     "execution_count": 25,
     "metadata": {},
     "output_type": "execute_result"
    }
   ],
   "source": [
    "lin_rmse"
   ]
  },
  {
   "cell_type": "code",
   "execution_count": 26,
   "metadata": {},
   "outputs": [],
   "source": [
    "from joblib import dump, load"
   ]
  },
  {
   "cell_type": "code",
   "execution_count": 27,
   "metadata": {},
   "outputs": [
    {
     "data": {
      "text/plain": [
       "['FB.joblib']"
      ]
     },
     "execution_count": 27,
     "metadata": {},
     "output_type": "execute_result"
    }
   ],
   "source": [
    "dump(model,\"FB.joblib\")"
   ]
  },
  {
   "cell_type": "code",
   "execution_count": 28,
   "metadata": {},
   "outputs": [],
   "source": [
    "x_test = fb_train\n",
    "y_test = fb_train_l\n",
    "x_test_prepared = my_pipeline.transform(x_test)\n",
    "finalpredictions = model.predict(x_test_prepared)\n",
    "final_mse = mean_squared_error(y_test,finalpredictions)\n",
    "final_rmse = np.sqrt(final_mse) "
   ]
  },
  {
   "cell_type": "code",
   "execution_count": 29,
   "metadata": {},
   "outputs": [
    {
     "data": {
      "text/plain": [
       "0.6155803586875596"
      ]
     },
     "execution_count": 29,
     "metadata": {},
     "output_type": "execute_result"
    }
   ],
   "source": [
    "final_rmse"
   ]
  },
  {
   "cell_type": "markdown",
   "metadata": {},
   "source": [
    "## Testing Data"
   ]
  },
  {
   "cell_type": "markdown",
   "metadata": {},
   "source": [
    "Enter the Row-Number of the testing data in variable 'y' "
   ]
  },
  {
   "cell_type": "code",
   "execution_count": 38,
   "metadata": {},
   "outputs": [
    {
     "data": {
      "text/plain": [
       "array([-1.67834412e-01, -2.27074679e-01, -2.28564800e-01, -1.01525994e+00,\n",
       "        1.06208551e+01,  2.46163257e+00,  6.70094276e+00,  4.24324051e+00,\n",
       "        6.47871849e+00,  2.20566908e+01,  3.68770179e+00,  1.66818259e+01,\n",
       "        1.49228104e+01,  1.02334336e+01, -1.21650998e-02, -8.20517328e-01,\n",
       "       -6.31950057e-01, -3.71559073e-01, -7.61691983e-01,  1.17819848e+01,\n",
       "        2.64748573e+00,  7.20643253e+00,  4.51167611e+00,  6.97302661e+00,\n",
       "        1.56859392e+00,  3.72488410e+00,  3.62339223e+01,  2.27245346e+01,\n",
       "        7.31706708e+00,  1.21394992e+00,  2.59082921e+00, -2.76453571e-01,\n",
       "        1.32134954e+00,  2.32971116e+00, -1.64089865e+00, -3.60528744e-01,\n",
       "       -8.38626789e-02,  0.00000000e+00,  1.20932489e-01, -3.73366947e-01,\n",
       "       -4.08986592e-01, -4.19667560e-01, -4.32351172e-01,  2.43779859e+00,\n",
       "       -4.13734295e-01, -3.98308631e-01, -4.06216453e-01, -3.90827466e-01,\n",
       "       -3.99501289e-01, -4.17774266e-01,  2.37260824e+00, -4.09962370e-01,\n",
       "       -4.11627051e-01,  3.14609075e+01])"
      ]
     },
     "execution_count": 38,
     "metadata": {},
     "output_type": "execute_result"
    }
   ],
   "source": [
    "y = 5641\n",
    "prepared_data[y-2]"
   ]
  },
  {
   "cell_type": "markdown",
   "metadata": {},
   "source": [
    "Copy the above data and paste it in the input of the Facebook_Comments_Predictor document"
   ]
  },
  {
   "cell_type": "code",
   "execution_count": null,
   "metadata": {},
   "outputs": [],
   "source": []
  }
 ],
 "metadata": {
  "kernelspec": {
   "display_name": "Python 3",
   "language": "python",
   "name": "python3"
  },
  "language_info": {
   "codemirror_mode": {
    "name": "ipython",
    "version": 3
   },
   "file_extension": ".py",
   "mimetype": "text/x-python",
   "name": "python",
   "nbconvert_exporter": "python",
   "pygments_lexer": "ipython3",
   "version": "3.8.5"
  }
 },
 "nbformat": 4,
 "nbformat_minor": 4
}
