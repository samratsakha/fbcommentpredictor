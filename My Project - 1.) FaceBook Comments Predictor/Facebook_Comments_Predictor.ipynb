{
 "cells": [
  {
   "cell_type": "markdown",
   "metadata": {},
   "source": [
    "## Facebook_Comments_Predictor"
   ]
  },
  {
   "cell_type": "markdown",
   "metadata": {},
   "source": [
    "This is where you will get the output of the model \n",
    "\n",
    "Paste the data taken from testing_data of (Facebook_Comments_Predictor_Model) and paste it here in the input section"
   ]
  },
  {
   "cell_type": "markdown",
   "metadata": {},
   "source": [
    "Paste the data as 2D array inside np.array()"
   ]
  },
  {
   "cell_type": "code",
   "execution_count": 2,
   "metadata": {},
   "outputs": [],
   "source": [
    "import numpy as np\n",
    "from joblib import dump,load\n",
    "model = load(\"FB.joblib\") "
   ]
  },
  {
   "cell_type": "code",
   "execution_count": 12,
   "metadata": {},
   "outputs": [
    {
     "name": "stdout",
     "output_type": "stream",
     "text": [
      "1115\n",
      "\n",
      "Number of Comments in the next hour will be 1115\n"
     ]
    }
   ],
   "source": [
    "input = np.array([[-1.67834412e-01, -2.27074679e-01, -2.28564800e-01, -1.01525994e+00,\n",
    "        1.06208551e+01,  2.46163257e+00,  6.70094276e+00,  4.24324051e+00,\n",
    "        6.47871849e+00,  2.20566908e+01,  3.68770179e+00,  1.66818259e+01,\n",
    "        1.49228104e+01,  1.02334336e+01, -1.21650998e-02, -8.20517328e-01,\n",
    "       -6.31950057e-01, -3.71559073e-01, -7.61691983e-01,  1.17819848e+01,\n",
    "        2.64748573e+00,  7.20643253e+00,  4.51167611e+00,  6.97302661e+00,\n",
    "        1.56859392e+00,  3.72488410e+00,  3.62339223e+01,  2.27245346e+01,\n",
    "        7.31706708e+00,  1.21394992e+00,  2.59082921e+00, -2.76453571e-01,\n",
    "        1.32134954e+00,  2.32971116e+00, -1.64089865e+00, -3.60528744e-01,\n",
    "       -8.38626789e-02,  0.00000000e+00,  1.20932489e-01, -3.73366947e-01,\n",
    "       -4.08986592e-01, -4.19667560e-01, -4.32351172e-01,  2.43779859e+00,\n",
    "       -4.13734295e-01, -3.98308631e-01, -4.06216453e-01, -3.90827466e-01,\n",
    "       -3.99501289e-01, -4.17774266e-01,  2.37260824e+00, -4.09962370e-01,\n",
    "       -4.11627051e-01,  3.14609075e+01]])\n",
    "\n",
    "ans = model.predict(input)\n",
    "\n",
    "print(int(ans))\n",
    "\n",
    "print()\n",
    "\n",
    "print(f\"Number of Comments in the next hour will be {int(ans)}\")"
   ]
  },
  {
   "cell_type": "code",
   "execution_count": null,
   "metadata": {},
   "outputs": [],
   "source": []
  }
 ],
 "metadata": {
  "kernelspec": {
   "display_name": "Python 3",
   "language": "python",
   "name": "python3"
  },
  "language_info": {
   "codemirror_mode": {
    "name": "ipython",
    "version": 3
   },
   "file_extension": ".py",
   "mimetype": "text/x-python",
   "name": "python",
   "nbconvert_exporter": "python",
   "pygments_lexer": "ipython3",
   "version": "3.8.5"
  }
 },
 "nbformat": 4,
 "nbformat_minor": 4
}
